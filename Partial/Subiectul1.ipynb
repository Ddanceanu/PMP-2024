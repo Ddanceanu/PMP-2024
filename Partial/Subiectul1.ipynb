{
 "cells": [
  {
   "cell_type": "code",
   "execution_count": 3,
   "metadata": {},
   "outputs": [
    {
     "name": "stderr",
     "output_type": "stream",
     "text": [
      "MultinomialHMM has undergone major changes. The previous version was implementing a CategoricalHMM (a special case of MultinomialHMM). This new implementation follows the standard definition for a Multinomial distribution (e.g. as in https://en.wikipedia.org/wiki/Multinomial_distribution). See these issues for details:\n",
      "https://github.com/hmmlearn/hmmlearn/issues/335\n",
      "https://github.com/hmmlearn/hmmlearn/issues/340\n"
     ]
    },
    {
     "name": "stdout",
     "output_type": "stream",
     "text": [
      "Cea mai probabila secventa de stari: [60 60 61 62 72]\n",
      "Probabilitatea secventei: 1.5624999999999997e-05\n"
     ]
    }
   ],
   "source": [
    "from hmmlearn import hmm\n",
    "import numpy as np\n",
    "import pandas as pd\n",
    "\n",
    "dimensiune_grid = (9, 10)\n",
    "\n",
    "culori = [\n",
    "    \"red\", \"blue\", \"green\", \"yellow\", \n",
    "    \"purple\", \"orange\", \"pink\", \"cyan\", \n",
    "    \"brown\", \"lime\"\n",
    "]\n",
    "\n",
    "df = pd.read_csv('grid_culori.csv')\n",
    "grid_culori = df.to_numpy()\n",
    "\n",
    "dimensiune_grid = grid_culori.shape\n",
    "\n",
    "observatii = [\"red\", \"red\", \"lime\", \"yellow\", \"blue\"]\n",
    "\n",
    "culoare_to_idx = {culoare: idx for idx, culoare in enumerate(culori)}\n",
    "observatii_idx = [culoare_to_idx[culoare] for culoare in observatii]\n",
    "\n",
    "observatii_vector = np.zeros((len(observatii), len(culori)))\n",
    "for t, idx in enumerate(observatii_idx):\n",
    "    observatii_vector[t, idx] = 1\n",
    "\n",
    "n_states = dimensiune_grid[0] * dimensiune_grid[1]\n",
    "n_observations = len(culori)\n",
    "\n",
    "transmat = np.zeros((n_states, n_states))\n",
    "\n",
    "for i in range(dimensiune_grid[0]):\n",
    "    for j in range(dimensiune_grid[1]):\n",
    "        idx = i * dimensiune_grid[1] + j\n",
    "        if j > 0:  \n",
    "            transmat[idx, idx - 1] = 0.4\n",
    "        if i > 0:  \n",
    "            transmat[idx, idx - dimensiune_grid[1]] = 0.15\n",
    "        if i < dimensiune_grid[0] - 1:  \n",
    "            transmat[idx, idx + dimensiune_grid[1]] = 0.15\n",
    "        if j < dimensiune_grid[1] - 1:  \n",
    "            transmat[idx, idx + 1] = 0.15\n",
    "        transmat[idx, idx] = 0.15  \n",
    "\n",
    "transmat = transmat / transmat.sum(axis=1, keepdims=True)\n",
    "\n",
    "emissionprob = np.zeros((n_states, n_observations))\n",
    "for i in range(dimensiune_grid[0]):\n",
    "    for j in range(dimensiune_grid[1]):\n",
    "        idx = i * dimensiune_grid[1] + j\n",
    "        culoare = grid_culori[i, j]\n",
    "        emissionprob[idx, culoare_to_idx[culoare]] = 1.0\n",
    "\n",
    "model = hmm.MultinomialHMM(n_components=n_states)\n",
    "model.startprob_ = np.full(n_states, 1.0 / n_states)\n",
    "model.transmat_ = transmat\n",
    "model.emissionprob_ = emissionprob\n",
    "\n",
    "model.n_trials = 1\n",
    "\n",
    "logprob, state_sequence = model.decode(observatii_vector, algorithm=\"viterbi\")\n",
    "\n",
    "print(\"Cea mai probabila secventa de stari:\", state_sequence)\n",
    "print(\"Probabilitatea secventei:\", np.exp(logprob))"
   ]
  },
  {
   "cell_type": "markdown",
   "metadata": {},
   "source": [
    "b) Dupa ce am eliminat toate tranzitiile spre stanga, agentul nu mai poate face aceasta miscare iar posibilul traseu depinde de toate celelalte directii sau ramanerea pe loc.\n",
    "\n",
    "Daca in secventa de observatii agentul s-ar fi mutata spre stanga conf celei mai probabile secvente de stari, secventa noua exclude aceasta optiune, deci vom avea o alta ruta posibila. Probabilitatea totala a noii secvente poate fi mai mica deoarece avem niste constrangeri, reducand numarul de trasee valide.\n",
    "\n",
    "Pentru analiza, putem compara state_sequence_no_left si state_sequence. Aici se vede cum s-a modificat traseil."
   ]
  }
 ],
 "metadata": {
  "kernelspec": {
   "display_name": "Python 3",
   "language": "python",
   "name": "python3"
  },
  "language_info": {
   "codemirror_mode": {
    "name": "ipython",
    "version": 3
   },
   "file_extension": ".py",
   "mimetype": "text/x-python",
   "name": "python",
   "nbconvert_exporter": "python",
   "pygments_lexer": "ipython3",
   "version": "3.12.7"
  }
 },
 "nbformat": 4,
 "nbformat_minor": 2
}
