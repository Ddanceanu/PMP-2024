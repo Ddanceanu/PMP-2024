{
 "cells": [
  {
   "cell_type": "code",
   "execution_count": 21,
   "metadata": {},
   "outputs": [],
   "source": [
    "import numpy as np\n",
    "import matplotlib.pyplot as plt\n",
    "from pgmpy.models import MarkovNetwork\n",
    "from pgmpy.factors.discrete import DiscreteFactor"
   ]
  },
  {
   "cell_type": "markdown",
   "metadata": {},
   "source": [
    "Setam un seed arbirtrat pentru reproducerea experimentului"
   ]
  },
  {
   "cell_type": "code",
   "execution_count": 22,
   "metadata": {},
   "outputs": [],
   "source": [
    "np.random.seed(42)"
   ]
  },
  {
   "cell_type": "markdown",
   "metadata": {},
   "source": [
    "Cream o imagine originala"
   ]
  },
  {
   "cell_type": "code",
   "execution_count": 23,
   "metadata": {},
   "outputs": [
    {
     "data": {
      "image/png": "[encoded data removed]",
      "text/plain": [
       "<Figure size 640x480 with 1 Axes>"
      ]
     },
     "metadata": {},
     "output_type": "display_data"
    }
   ],
   "source": [
    "original_image = np.random.randint(0, 256, size=(5, 5)) # genereaza o matrice de 5x5 cu valori intregi aleatorii intre 0 si 255\n",
    "plt.imshow(original_image, cmap='gray', vmin=0, vmax=255) # se afiseaza imaginea cu nuante de gri, cu intensitatea pixelilor intre 0 si 255\n",
    "plt.title('Original Image')\n",
    "plt.axis('off') # nu se afiseaza valorile de pe margini\n",
    "plt.show() # afisarea efectiva a imaginii"
   ]
  },
  {
   "cell_type": "markdown",
   "metadata": {},
   "source": [
    "Se adauga \"zgomot\" imaginii"
   ]
  },
  {
   "cell_type": "code",
   "execution_count": 24,
   "metadata": {},
   "outputs": [
    {
     "data": {
      "image/png": "[encoded data removed]",
      "text/plain": [
       "<Figure size 640x480 with 1 Axes>"
      ]
     },
     "metadata": {},
     "output_type": "display_data"
    }
   ],
   "source": [
    "noisy_image = original_image.copy()\n",
    "num_noisy_pixels = int(0.1 * original_image.size) # 10% din pixeli vor fi afectati\n",
    "noisy_indices = np.unravel_index(\n",
    "    np.random.choice(original_image.size, num_noisy_pixels, replace=False), # se aleg random pixeli care vor fi afectati de zgomot\n",
    "    original_image.shape\n",
    ")\n",
    "noisy_image[noisy_indices] = np.random.randint(0, 256, size=num_noisy_pixels)\n",
    "plt.imshow(noisy_image, cmap='gray', vmin=0, vmax=255)\n",
    "plt.title('Noisy Image')\n",
    "plt.axis('off')\n",
    "plt.show()"
   ]
  },
  {
   "cell_type": "markdown",
   "metadata": {},
   "source": [
    "Crearea retelei Markov"
   ]
  },
  {
   "cell_type": "code",
   "execution_count": 25,
   "metadata": {},
   "outputs": [],
   "source": [
    "model = MarkovNetwork()\n",
    "pixels = [(i, j) for i in range(5) for j in range(5)]\n",
    "model.add_nodes_from(pixels)\n",
    "edges = []\n",
    "for i in range(5):\n",
    "    for j in range(5):\n",
    "        if i < 4:\n",
    "            edges.append(((i, j), (i+1, j)))\n",
    "        if j < 4:\n",
    "            edges.append(((i, j), (i, j+1)))\n",
    "model.add_edges_from(edges)"
   ]
  },
  {
   "cell_type": "markdown",
   "metadata": {},
   "source": [
    "Discretizarea si restaurarea valorilor pixelilor"
   ]
  },
  {
   "cell_type": "code",
   "execution_count": 26,
   "metadata": {},
   "outputs": [],
   "source": [
    "num_levels = 8 # niveluri discrete\n",
    "_lambda = 0.8 # parametru de regularizare\n",
    "\n",
    "def discretize(value): # transofrma o valoare din 0-255 in 0-8\n",
    "    return int(value * (num_levels - 1) / 255)\n",
    "\n",
    "def undiscretize(level):\n",
    "    return int(level * 255 / (num_levels - 1))\n",
    "\n",
    "discretized_image = np.vectorize(discretize)(noisy_image) # se aplica functia "
   ]
  },
  {
   "cell_type": "markdown",
   "metadata": {},
   "source": [
    "Pregatirea factorilor unari pentru modelul Markov pentru inferenta"
   ]
  },
  {
   "cell_type": "code",
   "execution_count": 27,
   "metadata": {},
   "outputs": [],
   "source": [
    "unary_factors = {}\n",
    "for i in range(5):\n",
    "    for j in range(5):\n",
    "        observed_value = discretized_image[i, j] # extrage valoarea discretizata \n",
    "        variable = (i, j)\n",
    "        states = np.arange(num_levels) # creaza un vector care contine toate starile posibile ale pixelului (0-8)\n",
    "        potential = np.exp(-_lambda * (states - observed_value) ** 2) # calculeaza potentialul unar pentru fiecare stare posibila\n",
    "        unary_factors[variable] = potential / potential.sum() # normalizare a.i suma tuturor valorilor din potential sa fie 1\n"
   ]
  },
  {
   "cell_type": "markdown",
   "metadata": {},
   "source": [
    "Pregatirea potentialelor perechi "
   ]
  },
  {
   "cell_type": "code",
   "execution_count": 28,
   "metadata": {},
   "outputs": [],
   "source": [
    "states = np.arange(num_levels) # se creeaza un vector ce contine toate starile\n",
    "pairwise_potential = np.exp(- (np.subtract.outer(states, states)) ** 2) # se creeaza o matrice de potentiale perechi, facand ca valorile sa fie similare\n",
    "pairwise_potential /= pairwise_potential.sum(axis=1, keepdims=True) # normalizare astfel incat suma sa fie 1\n",
    "current_image = discretized_image.copy() "
   ]
  },
  {
   "cell_type": "markdown",
   "metadata": {},
   "source": [
    "Algoritmul ICM (Iterated Conditional Modes)"
   ]
  },
  {
   "cell_type": "code",
   "execution_count": 29,
   "metadata": {},
   "outputs": [],
   "source": [
    "def icm_iteration(image, unary_factors, pairwise_potential): # functie care realizeaza o iteratie a ICM\n",
    "    new_image = image.copy()\n",
    "    for i in range(5):\n",
    "        for j in range(5):\n",
    "            variable = (i, j)\n",
    "            best_state = None # pastreaza starea care minimizeaza energia pentru pixelul curent\n",
    "            best_energy = np.inf # pastreaza cea mai mica energie gasita pana acum\n",
    "\n",
    "            # se testeaza fiecare stare posibila pentru pixel\n",
    "            for state in range(num_levels):\n",
    "                # se calculeaza energia asociata cu starea state\n",
    "                energy = -np.log(unary_factors[variable][state])\n",
    "\n",
    "                # se adauga energiile pereche de la vecini\n",
    "                for neighbor in [(i-1, j), (i+1, j), (i, j-1), (i, j+1)]:\n",
    "                    if 0 <= neighbor[0] < 5 and 0 <= neighbor[1] < 5:\n",
    "                        neighbor_state = image[neighbor]\n",
    "                        energy += -np.log(pairwise_potential[state, neighbor_state])\n",
    "\n",
    "                # se actualizeaza daca aceasta stare are energia mai mica\n",
    "                if energy < best_energy:\n",
    "                    best_energy = energy\n",
    "                    best_state = state\n",
    "\n",
    "            new_image[i, j] = best_state # se adauga cea mai buna stare\n",
    "    return new_image"
   ]
  },
  {
   "cell_type": "markdown",
   "metadata": {},
   "source": [
    "Executa algoritmul de 10 ori si reconstruieste imaginea"
   ]
  },
  {
   "cell_type": "code",
   "execution_count": 30,
   "metadata": {},
   "outputs": [
    {
     "data": {
      "image/png": "[encoded data removed]",
      "text/plain": [
       "<Figure size 640x480 with 1 Axes>"
      ]
     },
     "metadata": {},
     "output_type": "display_data"
    }
   ],
   "source": [
    "\n",
    "num_iterations = 10\n",
    "\n",
    "for _ in range(num_iterations):\n",
    "    current_image = icm_iteration(current_image, unary_factors, pairwise_potential)\n",
    "\n",
    "denoised_image = np.vectorize(undiscretize)(current_image)\n",
    "\n",
    "plt.imshow(denoised_image, cmap='gray', vmin=0, vmax=255)\n",
    "plt.title('Denoised Image (ICM)')\n",
    "plt.axis('off')\n",
    "plt.show()"
   ]
  }
 ],
 "metadata": {
  "kernelspec": {
   "display_name": "Python 3",
   "language": "python",
   "name": "python3"
  },
  "language_info": {
   "codemirror_mode": {
    "name": "ipython",
    "version": 3
   },
   "file_extension": ".py",
   "mimetype": "text/x-python",
   "name": "python",
   "nbconvert_exporter": "python",
   "pygments_lexer": "ipython3",
   "version": "3.12.7"
  }
 },
 "nbformat": 4,
 "nbformat_minor": 2
}
