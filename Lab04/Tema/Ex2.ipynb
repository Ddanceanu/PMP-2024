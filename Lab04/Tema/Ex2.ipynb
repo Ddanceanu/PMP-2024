{
 "cells": [
  {
   "cell_type": "code",
   "execution_count": 25,
   "metadata": {},
   "outputs": [],
   "source": [
    "from pgmpy.models import MarkovNetwork\n",
    "from pgmpy.factors.discrete import DiscreteFactor\n",
    "from pgmpy.inference import BeliefPropagation"
   ]
  },
  {
   "cell_type": "markdown",
   "metadata": {},
   "source": [
    "Introducem matricea probabilitatilor din enunt."
   ]
  },
  {
   "cell_type": "code",
   "execution_count": 26,
   "metadata": {},
   "outputs": [],
   "source": [
    "potential_matrix = [\n",
    "    [0.7, 0.2, 0.1],  \n",
    "    [0.2, 0.6, 0.2],  \n",
    "    [0.1, 0.3, 0.6]   \n",
    "]"
   ]
  },
  {
   "cell_type": "markdown",
   "metadata": {},
   "source": [
    "Introducem numarul de statii meteo."
   ]
  },
  {
   "cell_type": "code",
   "execution_count": 27,
   "metadata": {},
   "outputs": [],
   "source": [
    "n = int(input(\"Introduceti numarul de statii meteo: \"))\n",
    "edges = []"
   ]
  },
  {
   "cell_type": "markdown",
   "metadata": {},
   "source": [
    "Introducem vecinii fiecarei statii."
   ]
  },
  {
   "cell_type": "code",
   "execution_count": 28,
   "metadata": {},
   "outputs": [],
   "source": [
    "for i in range(n):\n",
    "    vecini = input(f\"Introduceti vecinii statiei S{i+1} (separate prin spatiu): \").split()\n",
    "    for vecin in vecini:\n",
    "        edges.append((f'S{i+1}', f'S{vecin}'))"
   ]
  },
  {
   "cell_type": "markdown",
   "metadata": {},
   "source": [
    "Definim probabilitatile initiale pt fiecare statie."
   ]
  },
  {
   "cell_type": "code",
   "execution_count": 29,
   "metadata": {},
   "outputs": [],
   "source": [
    "initial_probs = {}\n",
    "for i in range(n):\n",
    "    soare = float(input(f\"P(Soare) la S{i+1}: \"))\n",
    "    ploaie = float(input(f\"P(Ploaie) la S{i+1}: \"))\n",
    "    nori = float(input(f\"P(Nori) la S{i+1}: \"))\n",
    "    initial_probs[f'S{i+1}'] = [soare, ploaie, nori]"
   ]
  },
  {
   "cell_type": "markdown",
   "metadata": {},
   "source": [
    "Crearea retelei si adaugarea nodurilor si muchiilor."
   ]
  },
  {
   "cell_type": "code",
   "execution_count": 30,
   "metadata": {},
   "outputs": [],
   "source": [
    "model = MarkovNetwork()\n",
    "for i in range(n):\n",
    "    model.add_node(f'S{i+1}')\n",
    "\n",
    "model.add_edges_from(edges)"
   ]
  },
  {
   "cell_type": "markdown",
   "metadata": {},
   "source": [
    "Adaugam factori pentru fiecare nod."
   ]
  },
  {
   "cell_type": "code",
   "execution_count": 31,
   "metadata": {},
   "outputs": [],
   "source": [
    "for i in range(n):\n",
    "    factor = DiscreteFactor( # DiscreteFactor reprezinta distributia de probabilitate a unei variabile discrete\n",
    "        variables=[f'S{i+1}'], cardinality=[3], values=initial_probs[f'S{i+1}']\n",
    "    )\n",
    "    model.add_factors(factor)"
   ]
  },
  {
   "cell_type": "markdown",
   "metadata": {},
   "source": [
    "Adaugam factori pentru fiecare muchie."
   ]
  },
  {
   "cell_type": "code",
   "execution_count": 32,
   "metadata": {},
   "outputs": [],
   "source": [
    "for edge in edges:\n",
    "    factor = DiscreteFactor(variables=edge, cardinality=[3, 3], values=potential_matrix)\n",
    "    model.add_factors(factor)"
   ]
  },
  {
   "cell_type": "markdown",
   "metadata": {},
   "source": [
    "Verifim structura modelul pentru a ne asigura ca toti termenii sunt bine definiti."
   ]
  },
  {
   "cell_type": "code",
   "execution_count": 33,
   "metadata": {},
   "outputs": [
    {
     "data": {
      "text/plain": [
       "True"
      ]
     },
     "execution_count": 33,
     "metadata": {},
     "output_type": "execute_result"
    }
   ],
   "source": [
    "model.check_model()"
   ]
  },
  {
   "cell_type": "markdown",
   "metadata": {},
   "source": [
    "Inferența folosind MAP (Maximum a Posteriori)"
   ]
  },
  {
   "cell_type": "code",
   "execution_count": 34,
   "metadata": {},
   "outputs": [],
   "source": [
    "inference = BeliefPropagation(model)\n",
    "map_result = inference.map_query(variables=[f'S{i+1}' for i in range(n)])\n",
    "#map_query calculeaza configuratia cea mai probabila a variabilelor cerute"
   ]
  },
  {
   "cell_type": "markdown",
   "metadata": {},
   "source": [
    "Afișăm rezultatul MAP cu stările în format text"
   ]
  },
  {
   "cell_type": "code",
   "execution_count": 35,
   "metadata": {},
   "outputs": [
    {
     "name": "stdout",
     "output_type": "stream",
     "text": [
      "Stația S1 va avea starea: Rainy\n",
      "Stația S2 va avea starea: Rainy\n",
      "Stația S3 va avea starea: Rainy\n"
     ]
    }
   ],
   "source": [
    "state_mapping = {0: \"Sunny\", 1: \"Rainy\", 2: \"Cloudy\"}\n",
    "for station, state in map_result.items():\n",
    "    print(f\"Stația {station} va avea starea: {state_mapping[state]}\")"
   ]
  }
 ],
 "metadata": {
  "kernelspec": {
   "display_name": "Python 3",
   "language": "python",
   "name": "python3"
  },
  "language_info": {
   "codemirror_mode": {
    "name": "ipython",
    "version": 3
   },
   "file_extension": ".py",
   "mimetype": "text/x-python",
   "name": "python",
   "nbconvert_exporter": "python",
   "pygments_lexer": "ipython3",
   "version": "3.12.7"
  }
 },
 "nbformat": 4,
 "nbformat_minor": 2
}
