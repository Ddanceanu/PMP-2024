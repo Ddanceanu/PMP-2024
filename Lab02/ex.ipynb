{
 "cells": [
  {
   "cell_type": "code",
   "execution_count": 11,
   "metadata": {},
   "outputs": [
    {
     "name": "stdout",
     "output_type": "stream",
     "text": [
      "Probabilitatea estimată pentru o bilă roșie: 0.3195\n"
     ]
    }
   ],
   "source": [
    "import random\n",
    "\n",
    "nr_incercari = 10000\n",
    "\n",
    "def exercitiu():\n",
    "    extragere_rosie = 0 \n",
    "\n",
    "    for _ in range(nr_incercari):\n",
    "        urna = ['rosu'] * 3 + ['albastru'] * 4 + ['negru'] * 2  \n",
    "\n",
    "        zar = random.randint(1, 6)\n",
    "\n",
    "        if zar in [2, 3, 5]:\n",
    "            urna.append('negru')\n",
    "        elif zar == 6:\n",
    "            urna.append('rosu')\n",
    "        else:\n",
    "            urna.append('albastru')\n",
    "\n",
    "        rezultat = random.choice(urna)\n",
    "\n",
    "        if rezultat == 'rosu':\n",
    "            extragere_rosie += 1\n",
    "\n",
    "    probabilitate = extragere_rosie / nr_incercari\n",
    "    print(\"Probabilitatea estimată pentru o bilă roșie:\", probabilitate)\n",
    "\n",
    "exercitiu()"
   ]
  },
  {
   "cell_type": "code",
   "execution_count": 8,
   "metadata": {},
   "outputs": [
    {
     "name": "stdout",
     "output_type": "stream",
     "text": [
      "Probabilitatea teoretică de a obține o bilă roșie: 0.31666666666666665\n"
     ]
    }
   ],
   "source": [
    "# probabilitatea fiecarui caz\n",
    "probabilitate_caz1 = 3 / 6  \n",
    "probabilitate_caz2 = 1 / 6  \n",
    "probabilitate_caz3 = 2 / 6  \n",
    "\n",
    "# probabilitatea de a obtine o bila rosie in fiecare caz\n",
    "probabilitate_rosie_caz1 = 3 / 10  # bila neagra\n",
    "probabilitate_rosie_caz2 = 4 / 10  # bila rosie\n",
    "probabilitate_rosie_caz3 = 3 / 10  # bila albastra\n",
    "\n",
    "# P(roșie)=P(caz 1)×P(roșie | caz 1)+P(caz 2)×P(roșie | caz 2)+P(caz 3)×P(roșie | caz 3)\n",
    "# total\n",
    "probabilitate_teoretica = (probabilitate_caz1 * probabilitate_rosie_caz1 +\n",
    "                           probabilitate_caz2 * probabilitate_rosie_caz2 +\n",
    "                           probabilitate_caz3 * probabilitate_rosie_caz3)\n",
    "\n",
    "print(\"Probabilitatea teoretică de a obține o bilă roșie:\", probabilitate_teoretica)\n"
   ]
  }
 ],
 "metadata": {
  "kernelspec": {
   "display_name": "Python 3",
   "language": "python",
   "name": "python3"
  },
  "language_info": {
   "codemirror_mode": {
    "name": "ipython",
    "version": 3
   },
   "file_extension": ".py",
   "mimetype": "text/x-python",
   "name": "python",
   "nbconvert_exporter": "python",
   "pygments_lexer": "ipython3",
   "version": "3.12.7"
  }
 },
 "nbformat": 4,
 "nbformat_minor": 2
}
